{
 "cells": [
  {
   "cell_type": "code",
   "execution_count": 43,
   "metadata": {},
   "outputs": [],
   "source": [
    "# 📦 Importação de bibliotecas necessárias\n",
    "import numpy as np  # 🧮 Biblioteca para cálculos numéricos com arrays multidimensionais\n",
    "from sklearn import datasets  # 📚 Conjuntos de dados prontos para machine learning\n",
    "from sklearn.model_selection import train_test_split  # ✂️ Divisor de dados em treino/teste\n",
    "from sklearn.preprocessing import StandardScaler  # 🔢 Normalizador/padronizador de dados\n",
    "from sklearn.neighbors import KNeighborsClassifier  # 🏷️ Algoritmo KNN para classificação\n",
    "from matplotlib.colors import ListedColormap  # 🎨 Cores para visualização\n",
    "import matplotlib.pyplot as plt  # 📊 Biblioteca para plotagem de gráficos"
   ]
  },
  {
   "cell_type": "code",
   "execution_count": 44,
   "metadata": {},
   "outputs": [],
   "source": [
    "# 🌸 Carrega o famoso dataset Iris (conjunto de dados de flores íris)\n",
    "iris = datasets.load_iris()"
   ]
  },
  {
   "cell_type": "code",
   "execution_count": 45,
   "metadata": {},
   "outputs": [],
   "source": [
    "# 🌸 Selecionando apenas as colunas 2 e 3 (pétalas) do dataset Iris para X\n",
    "X = iris.data[:, [2, 3]]  # 📏 Pegamos apenas comprimento e largura das pétalas\n",
    "\n",
    "# 🎯 Selecionando o vetor de classes/alvos (espécies de íris) para y\n",
    "y = iris.target  # 0=setosa, 1=versicolor, 2=virginica"
   ]
  },
  {
   "cell_type": "code",
   "execution_count": 46,
   "metadata": {},
   "outputs": [
    {
     "name": "stdout",
     "output_type": "stream",
     "text": [
      "Existem 105 amostras de treino e 45 amostras de teste.\n"
     ]
    }
   ],
   "source": [
    "# ✂️ Dividindo os dados em conjuntos de treino (70%) e teste (30%)\n",
    "X_train, X_test, y_train, y_test = train_test_split(\n",
    "    X,                     # Features (comprimento e largura das pétalas)\n",
    "    y,                     # Rótulos (espécies de íris)\n",
    "    test_size=0.3,         # 30% dos dados serão usados para teste\n",
    "    random_state=0         # Semente aleatória para reprodutibilidade\n",
    ")\n",
    "\n",
    "# 📊 Mostrando o tamanho dos conjuntos criados\n",
    "print(f'Existem {X_train.shape[0]} amostras de treino e {X_test.shape[0]} amostras de teste.')"
   ]
  },
  {
   "cell_type": "code",
   "execution_count": 47,
   "metadata": {},
   "outputs": [],
   "source": [
    "# 🏗️ Cria o normalizador de dados (média=0, desvio=1)\n",
    "sc = StandardScaler()  \n",
    "\n",
    "# 📊 Calcula média e desvio padrão DOS DADOS DE TREINO\n",
    "sc.fit(X_train)  \n",
    "\n",
    "# ✨ Aplica normalização nos dados de TREINO\n",
    "X_train_normalizado = sc.transform(X_train)  \n",
    "\n",
    "# 🔄 Aplica a MESMA normalização nos dados de TESTE\n",
    "X_test_normalizado = sc.transform(X_test)  \n",
    "\n",
    "# 🧱 Empilha dados de treino+teste normalizados verticalmente\n",
    "X_normalizado = np.vstack((X_train_normalizado, X_test_normalizado))  \n",
    "\n",
    "# ➕ Concatena os rótulos de treino+teste horizontalmente  \n",
    "y_normalizado = np.hstack((y_train, y_test))  "
   ]
  },
  {
   "cell_type": "code",
   "execution_count": 48,
   "metadata": {},
   "outputs": [
    {
     "name": "stderr",
     "output_type": "stream",
     "text": [
      "C:\\Users\\Felipe\\AppData\\Local\\Temp\\ipykernel_20100\\1202668311.py:8: UserWarning: *c* argument looks like a single numeric RGB or RGBA sequence, which should be avoided as value-mapping will have precedence in case its length matches with *x* & *y*.  Please use the *color* keyword-argument or provide a 2D array with a single row if you intend to specify the same RGB or RGBA value for all points.\n",
      "  plt.scatter(\n"
     ]
    },
    {
     "data": {
      "image/png": "[encoded data removed]",
      "text/plain": [
       "<Figure size 640x480 with 1 Axes>"
      ]
     },
     "metadata": {},
     "output_type": "display_data"
    }
   ],
   "source": [
    "# 🎨 Configuração dos estilos de plotagem\n",
    "markers = ('s', 'x', 'o')          # 🔷🔶🔵 Símbolos para cada classe\n",
    "colors = ('red', 'blue', 'lightgreen')  # 🟥🟦🟩 Cores para cada classe\n",
    "cmap = ListedColormap(colors[:len(np.unique(y_test))])  # 🎨 Cria mapa de cores\n",
    "\n",
    "# 📊 Loop para plotar cada classe\n",
    "for idx, cl in enumerate(np.unique(y)):  # 🔄 Para cada classe única\n",
    "    plt.scatter(\n",
    "        x=X[y == cl, 0],  # 🏹 Eixo X: primeira feature (comprimento pétala)\n",
    "        y=X[y == cl, 1],  # 🏹 Eixo Y: segunda feature (largura pétala)\n",
    "        c=cmap(idx),      # 🎨 Cor correspondente à classe\n",
    "        marker=markers[idx],  # 🔶 Símbolo correspondente\n",
    "        label=f'Classe {cl}'  # 🏷️ Rótulo para legenda (0=Setosa, 1=Versicolor, 2=Virginica)\n",
    "    )\n",
    "\n",
    "# ✨ A plotagem resultante mostrará:\n",
    "# 🔴 Setosa (quadrados)\n",
    "# 🔵 Versicolor (xis)\n",
    "# 🟢 Virginica (círculos)"
   ]
  },
  {
   "cell_type": "code",
   "execution_count": 49,
   "metadata": {},
   "outputs": [
    {
     "name": "stdout",
     "output_type": "stream",
     "text": [
      "A acurácia do KNN na base de treino é 0.95\n",
      "A acurácia do KNN na base de teste é: 1.00\n"
     ]
    }
   ],
   "source": [
    "# 🤖 Criando o classificador KNN com 5 vizinhos\n",
    "knn = KNeighborsClassifier(\n",
    "    n_neighbors=5,    # 👥 Número de vizinhos a considerar\n",
    "    p=2,              # 📏 Distância Euclidiana (p=2)\n",
    "    metric='minkowski' # 📐 Métrica de distância padrão\n",
    ")\n",
    "\n",
    "# 🎓 Treinando o modelo com dados NORMALIZADOS\n",
    "knn.fit(X_train_normalizado, y_train)  # 📚 Aprende padrões nos dados\n",
    "\n",
    "# 📊 Avaliando desempenho\n",
    "print(f'A acurácia do KNN na base de treino é {knn.score(X_train_normalizado, y_train):.2f}')  # 🏋️‍♂️\n",
    "print(f'A acurácia do KNN na base de teste é: {knn.score(X_test_normalizado, y_test):.2f}')     # 🧪"
   ]
  }
 ],
 "metadata": {
  "kernelspec": {
   "display_name": "base",
   "language": "python",
   "name": "python3"
  },
  "language_info": {
   "codemirror_mode": {
    "name": "ipython",
    "version": 3
   },
   "file_extension": ".py",
   "mimetype": "text/x-python",
   "name": "python",
   "nbconvert_exporter": "python",
   "pygments_lexer": "ipython3",
   "version": "3.12.4"
  }
 },
 "nbformat": 4,
 "nbformat_minor": 2
}
